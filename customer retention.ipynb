{
 "cells": [
  {
   "cell_type": "code",
   "execution_count": null,
   "id": "7d3f08b9",
   "metadata": {},
   "outputs": [],
   "source": [
    "import pandas as pd\n",
    "from time import strftime\n",
    "from datetime import datetime\n",
    "import matplotlib.pyplot as plt\n",
    "import seaborn as sns\n"
   ]
  },
  {
   "cell_type": "code",
   "execution_count": null,
   "id": "06eae260",
   "metadata": {},
   "outputs": [],
   "source": [
    "df = pd.read_csv('raw.csv')"
   ]
  },
  {
   "cell_type": "code",
   "execution_count": null,
   "id": "b56b6fd8",
   "metadata": {},
   "outputs": [],
   "source": [
    "df.head(10)"
   ]
  },
  {
   "cell_type": "code",
   "execution_count": null,
   "id": "af65a049",
   "metadata": {},
   "outputs": [],
   "source": [
    "df.signup_data=pd.to_datetime(df.signup_date,format='%d/%m/%Y')\n",
    "df.ref_date=pd.to_datetime(df.ref_date,format='%d/%m/%Y')"
   ]
  },
  {
   "cell_type": "code",
   "execution_count": null,
   "id": "2c7a486a",
   "metadata": {},
   "outputs": [],
   "source": [
    "df['seniority']=(df['ref_date']-df['signup_date']).dt.days+1"
   ]
  },
  {
   "cell_type": "code",
   "execution_count": null,
   "id": "c13675a0",
   "metadata": {},
   "outputs": [],
   "source": [
    "df.info()"
   ]
  },
  {
   "cell_type": "code",
   "execution_count": null,
   "id": "3b40b21d",
   "metadata": {},
   "outputs": [],
   "source": [
    "df.head(10)"
   ]
  },
  {
   "cell_type": "code",
   "execution_count": null,
   "id": "3dcf4570",
   "metadata": {},
   "outputs": [],
   "source": [
    "group = df.groupby(['signup_date','seniority'])"
   ]
  },
  {
   "cell_type": "code",
   "execution_count": null,
   "id": "645e2bf9",
   "metadata": {},
   "outputs": [],
   "source": [
    "cohort_data = group ['username'].size()"
   ]
  },
  {
   "cell_type": "code",
   "execution_count": null,
   "id": "57e48413",
   "metadata": {},
   "outputs": [],
   "source": [
    "cohort_data"
   ]
  },
  {
   "cell_type": "code",
   "execution_count": null,
   "id": "fad7bb8b",
   "metadata": {},
   "outputs": [],
   "source": [
    "cohort_data = cohort_data.reset_index()"
   ]
  },
  {
   "cell_type": "code",
   "execution_count": null,
   "id": "b9dcea8f",
   "metadata": {},
   "outputs": [],
   "source": [
    "cohort_data"
   ]
  },
  {
   "cell_type": "code",
   "execution_count": null,
   "id": "f40f617d",
   "metadata": {},
   "outputs": [],
   "source": [
    "cohort_data = cohort_data.reset_index()"
   ]
  },
  {
   "cell_type": "code",
   "execution_count": null,
   "id": "1707099d",
   "metadata": {},
   "outputs": [],
   "source": [
    "cohort_data"
   ]
  },
  {
   "cell_type": "code",
   "execution_count": null,
   "id": "23aeef0c",
   "metadata": {},
   "outputs": [],
   "source": [
    "cohort_counts = cohort_data.pivot(index='signup_date',columns='seniority',values='username')"
   ]
  },
  {
   "cell_type": "code",
   "execution_count": null,
   "id": "9a6edc0b",
   "metadata": {},
   "outputs": [],
   "source": [
    "cohort_counts"
   ]
  },
  {
   "cell_type": "code",
   "execution_count": null,
   "id": "5232f0f0",
   "metadata": {},
   "outputs": [],
   "source": [
    "base = cohort_counts[1]"
   ]
  },
  {
   "cell_type": "code",
   "execution_count": null,
   "id": "97fc8acf",
   "metadata": {},
   "outputs": [],
   "source": [
    "retention = cohort_counts.divide(base,axis=0).round(3)\n",
    "retention"
   ]
  },
  {
   "cell_type": "code",
   "execution_count": null,
   "id": "00531410",
   "metadata": {},
   "outputs": [],
   "source": []
  }
 ],
 "metadata": {
  "kernelspec": {
   "display_name": "Python 3",
   "language": "python",
   "name": "python3"
  },
  "language_info": {
   "codemirror_mode": {
    "name": "ipython",
    "version": 3
   },
   "file_extension": ".py",
   "mimetype": "text/x-python",
   "name": "python",
   "nbconvert_exporter": "python",
   "pygments_lexer": "ipython3",
   "version": "3.8.8"
  }
 },
 "nbformat": 4,
 "nbformat_minor": 5
}
